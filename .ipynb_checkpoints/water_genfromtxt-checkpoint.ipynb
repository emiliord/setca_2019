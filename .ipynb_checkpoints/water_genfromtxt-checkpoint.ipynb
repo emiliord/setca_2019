{
 "cells": [
  {
   "cell_type": "code",
   "execution_count": 32,
   "metadata": {},
   "outputs": [],
   "source": [
    "import numpy\n",
    "import os\n",
    "xyz_file = numpy.genfromtxt(fname='water.xyz',skip_header=2,dtype='unicode')"
   ]
  },
  {
   "cell_type": "code",
   "execution_count": 33,
   "metadata": {},
   "outputs": [],
   "source": [
    "symbols=xyz_file[:,0]\n",
    "coordinates=xyz_file[:,1:]\n",
    "coordinates =coordinates.astype(numpy.float)"
   ]
  },
  {
   "cell_type": "code",
   "execution_count": 34,
   "metadata": {},
   "outputs": [
    {
     "name": "stdout",
     "output_type": "stream",
     "text": [
      "['O' 'H1' 'H2']\n"
     ]
    }
   ],
   "source": [
    "print(symbols)"
   ]
  },
  {
   "cell_type": "code",
   "execution_count": 35,
   "metadata": {},
   "outputs": [
    {
     "name": "stdout",
     "output_type": "stream",
     "text": [
      "[[ 0.       -0.007156  0.965491]\n",
      " [-0.        0.001486 -0.003471]\n",
      " [ 0.        0.931026  1.207929]]\n"
     ]
    }
   ],
   "source": [
    "print(coordinates)"
   ]
  },
  {
   "cell_type": "code",
   "execution_count": 36,
   "metadata": {},
   "outputs": [
    {
     "name": "stdout",
     "output_type": "stream",
     "text": [
      "H1 to O: 0.969\n",
      "H2 to O: 0.969\n"
     ]
    }
   ],
   "source": [
    "for numA, atomA in enumerate(coordinates):\n",
    "    for numB, atomB in enumerate(coordinates):\n",
    "        if numB < numA:\n",
    "            x_distance  = atomA[0]-atomB[0]\n",
    "            y_distance  = atomA[1]-atomB[1]\n",
    "            z_distance  = atomA[2]-atomB[2]\n",
    "            distance = numpy.sqrt(x_distance**2 + y_distance**2 + z_distance**2)\n",
    "            if distance > 0 and distance < 1.5:\n",
    "                print(F'{symbols[numA]} to {symbols[numB]}: {distance:.3f}')"
   ]
  },
  {
   "cell_type": "code",
   "execution_count": 38,
   "metadata": {},
   "outputs": [],
   "source": [
    "def calculate_distance(atom1, atom2):\n",
    "    x_distance  = atom1[0]-atom2[0]\n",
    "    y_distance  = atom1[1]-atom2[1]\n",
    "    z_distance  = atom1[2]-atom2[2]\n",
    "    distance = numpy.sqrt(x_distance**2 + y_distance**2 + z_distance**2)\n",
    "    return distance"
   ]
  },
  {
   "cell_type": "code",
   "execution_count": 40,
   "metadata": {},
   "outputs": [
    {
     "name": "stdout",
     "output_type": "stream",
     "text": [
      "H1 to O: 0.969\n",
      "H2 to O: 0.969\n",
      "H2 to H1: 1.527\n"
     ]
    }
   ],
   "source": [
    "for numA, atomA in enumerate(coordinates):\n",
    "    for numB, atomB in enumerate(coordinates):\n",
    "        if numB < numA:\n",
    "           distance_AB = calculate_distance(atomA, atomB)\n",
    "           print(F'{symbols[numA]} to {symbols[numB]}: {distance_AB:.3f}')"
   ]
  },
  {
   "cell_type": "code",
   "execution_count": 64,
   "metadata": {},
   "outputs": [],
   "source": [
    "def bond_check(bond_distance, minimum_value=0, maximum_value=1.5):\n",
    "    if bond_distance > minimum_value and bond_distance < maximum_value:\n",
    "        return True\n",
    "    else:\n",
    "        return False"
   ]
  },
  {
   "cell_type": "code",
   "execution_count": 67,
   "metadata": {},
   "outputs": [
    {
     "name": "stdout",
     "output_type": "stream",
     "text": [
      "H1 to O: 0.969\n",
      "H2 to O: 0.969\n",
      "H2 to H1: 1.527\n"
     ]
    }
   ],
   "source": [
    "for numA, atomA in enumerate(coordinates):\n",
    "    for numB, atomB in enumerate(coordinates):\n",
    "        if numB < numA:\n",
    "            distance_AB = calculate_distance(atomA, atomB)\n",
    "            if bond_check(distance_AB,maximum_value=3.0) is True:\n",
    "                print(F'{symbols[numA]} to {symbols[numB]}: {distance_AB:.3f}')"
   ]
  },
  {
   "cell_type": "code",
   "execution_count": null,
   "metadata": {},
   "outputs": [],
   "source": []
  }
 ],
 "metadata": {
  "kernelspec": {
   "display_name": "Python 3",
   "language": "python",
   "name": "python3"
  },
  "language_info": {
   "codemirror_mode": {
    "name": "ipython",
    "version": 3
   },
   "file_extension": ".py",
   "mimetype": "text/x-python",
   "name": "python",
   "nbconvert_exporter": "python",
   "pygments_lexer": "ipython3",
   "version": "3.7.3"
  }
 },
 "nbformat": 4,
 "nbformat_minor": 2
}
